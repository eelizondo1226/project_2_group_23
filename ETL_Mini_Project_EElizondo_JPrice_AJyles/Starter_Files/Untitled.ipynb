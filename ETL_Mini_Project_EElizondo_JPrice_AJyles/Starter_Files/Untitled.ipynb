{
 "cells": [
  {
   "cell_type": "code",
   "execution_count": 4,
   "id": "3695da93-047c-494f-b650-5c9b500a140c",
   "metadata": {},
   "outputs": [],
   "source": [
    "# for database connections\n",
    "import sqlalchemy\n",
    "from sqlalchemy import create_engine, inspect, text\n",
    "\n",
    "# data\n",
    "import pandas as pd\n",
    "import numpy as np\n",
    "\n",
    "# viz\n",
    "import seaborn as sns\n",
    "import matplotlib.pyplot as plt"
   ]
  },
  {
   "cell_type": "code",
   "execution_count": 11,
   "id": "f2e11159-8eba-4cd9-ae62-7200b34f846f",
   "metadata": {},
   "outputs": [],
   "source": [
    "SQL_USERNAME = \"postgres\"\n",
    "SQL_PASSWORD = \"postgres\"\n",
    "SQL_IP = \"localhost\"\n",
    "PORT = 5432\n",
    "DATABASE = \"Crowdfunding_db\""
   ]
  },
  {
   "cell_type": "code",
   "execution_count": 12,
   "id": "04aaa139-f910-40c0-b552-146c388a07ea",
   "metadata": {},
   "outputs": [],
   "source": [
    "connection_string = f\"postgresql+psycopg2://{SQL_USERNAME}:{SQL_PASSWORD}@{SQL_IP}:{PORT}/{DATABASE}\"\n",
    "engine = create_engine(connection_string)"
   ]
  },
  {
   "cell_type": "code",
   "execution_count": 13,
   "id": "a99537b3-3e47-4d8d-b810-2752d5e45b5d",
   "metadata": {},
   "outputs": [],
   "source": [
    "# explore and understand the data\n",
    "\n",
    "# Create the inspector and connect it to the engine\n",
    "inspector = inspect(engine)\n",
    "\n",
    "# Collect the names of tables within the database\n",
    "tables = inspector.get_table_names()\n",
    "\n",
    "# Using the inspector to print the column names within each table and its types\n",
    "for table in tables:\n",
    "    print(table)\n",
    "    columns = inspector.get_columns(table)\n",
    "    for column in columns:\n",
    "        print(column[\"name\"], column[\"type\"])\n",
    "        \n",
    "    print()"
   ]
  },
  {
   "cell_type": "code",
   "execution_count": null,
   "id": "433803af-8128-415b-bd7d-b6dee0900c57",
   "metadata": {},
   "outputs": [],
   "source": [
    "# Read in csv's / create dataframes\n",
    "category_df = pd.read_csv(\"########.csv\")\n",
    "subcategory_df = pd.read_csv(\"########.csv\")\n",
    "campaign_df = pd.read_csv(\"########.csv\")\n",
    "contacts_df = pd.read_csv(\"########.csv\")"
   ]
  },
  {
   "cell_type": "code",
   "execution_count": null,
   "id": "caa29605-81b5-4b3c-9528-b14e171a5bf5",
   "metadata": {},
   "outputs": [],
   "source": [
    "# Load to POSTGRESQL\n",
    "category_df.to_sql(\"category\", schema=\"public\", con=engine, index=False, if_exists=\"append\", method=\"multi\")\n",
    "subcategory_df.to_sql(\"subcategory\", schema=\"public\", con=engine, index=False, if_exists=\"append\", method=\"multi\")\n",
    "campaign_df.to_sql(\"campaign\", schema=\"public\", con=engine, index=False, if_exists=\"append\", method=\"multi\")\n",
    "contacts_df.to_sql(\"contacts\", schema=\"public\", con=engine, index=False, if_exists=\"append\", method=\"multi\")"
   ]
  },
  {
   "cell_type": "code",
   "execution_count": null,
   "id": "d814989a-504a-4aa0-bec2-456c985408b4",
   "metadata": {},
   "outputs": [],
   "source": []
  },
  {
   "cell_type": "code",
   "execution_count": null,
   "id": "f5bf10ca-0982-4d23-9d84-531796e95f21",
   "metadata": {},
   "outputs": [],
   "source": []
  },
  {
   "cell_type": "code",
   "execution_count": null,
   "id": "53571b4e-b70c-4389-95b6-350dafc96ef7",
   "metadata": {},
   "outputs": [],
   "source": []
  },
  {
   "cell_type": "code",
   "execution_count": null,
   "id": "aff9233b-de18-407a-8a19-1b86cf5ae967",
   "metadata": {},
   "outputs": [],
   "source": []
  },
  {
   "cell_type": "code",
   "execution_count": null,
   "id": "7df54023-2417-4feb-9957-34fc2c7182f0",
   "metadata": {},
   "outputs": [],
   "source": []
  },
  {
   "cell_type": "code",
   "execution_count": null,
   "id": "41044493-7c55-4666-a967-2c639f3af951",
   "metadata": {},
   "outputs": [],
   "source": []
  },
  {
   "cell_type": "code",
   "execution_count": null,
   "id": "69e06e04-f904-4ad4-965b-d05e580f3ccc",
   "metadata": {},
   "outputs": [],
   "source": []
  }
 ],
 "metadata": {
  "kernelspec": {
   "display_name": "Python 3 (ipykernel)",
   "language": "python",
   "name": "python3"
  },
  "language_info": {
   "codemirror_mode": {
    "name": "ipython",
    "version": 3
   },
   "file_extension": ".py",
   "mimetype": "text/x-python",
   "name": "python",
   "nbconvert_exporter": "python",
   "pygments_lexer": "ipython3",
   "version": "3.10.14"
  }
 },
 "nbformat": 4,
 "nbformat_minor": 5
}
